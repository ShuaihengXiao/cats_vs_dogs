{
 "cells": [
  {
   "cell_type": "code",
   "execution_count": 1,
   "metadata": {
    "colab": {
     "base_uri": "https://localhost:8080/"
    },
    "executionInfo": {
     "elapsed": 79469,
     "status": "ok",
     "timestamp": 1607254603832,
     "user": {
      "displayName": "SHUAIHENG XIAO",
      "photoUrl": "",
      "userId": "00050360622927862885"
     },
     "user_tz": -480
    },
    "id": "5Akm7U0uJu1p",
    "outputId": "0a0653a9-2ef1-45de-ee99-9e02f4a1a432"
   },
   "outputs": [
    {
     "name": "stdout",
     "output_type": "stream",
     "text": [
      "E: Package 'python-software-properties' has no installation candidate\n",
      "Selecting previously unselected package google-drive-ocamlfuse.\n",
      "(Reading database ... 144865 files and directories currently installed.)\n",
      "Preparing to unpack .../google-drive-ocamlfuse_0.7.23-0ubuntu1~ubuntu18.04.1_amd64.deb ...\n",
      "Unpacking google-drive-ocamlfuse (0.7.23-0ubuntu1~ubuntu18.04.1) ...\n",
      "Setting up google-drive-ocamlfuse (0.7.23-0ubuntu1~ubuntu18.04.1) ...\n",
      "Processing triggers for man-db (2.8.3-2ubuntu0.1) ...\n",
      "Please, open the following URL in a web browser: https://accounts.google.com/o/oauth2/auth?client_id=32555940559.apps.googleusercontent.com&redirect_uri=urn%3Aietf%3Awg%3Aoauth%3A2.0%3Aoob&scope=https%3A%2F%2Fwww.googleapis.com%2Fauth%2Fdrive&response_type=code&access_type=offline&approval_prompt=force\n",
      "··········\n",
      "Please, open the following URL in a web browser: https://accounts.google.com/o/oauth2/auth?client_id=32555940559.apps.googleusercontent.com&redirect_uri=urn%3Aietf%3Awg%3Aoauth%3A2.0%3Aoob&scope=https%3A%2F%2Fwww.googleapis.com%2Fauth%2Fdrive&response_type=code&access_type=offline&approval_prompt=force\n",
      "Please enter the verification code: Access token retrieved correctly.\n"
     ]
    }
   ],
   "source": [
    "!apt-get install -y -qq software-properties-common python-software-properties module-init-tools\n",
    "!add-apt-repository -y ppa:alessandro-strada/ppa 2>&1 > /dev/null\n",
    "!apt-get update -qq 2>&1 > /dev/null\n",
    "!apt-get -y install -qq google-drive-ocamlfuse fuse\n",
    "from google.colab import auth\n",
    "auth.authenticate_user()\n",
    "from oauth2client.client import GoogleCredentials\n",
    "creds = GoogleCredentials.get_application_default()\n",
    "import getpass\n",
    "!google-drive-ocamlfuse -headless -id={creds.client_id} -secret={creds.client_secret} < /dev/null 2>&1 | grep URL\n",
    "vcode = getpass.getpass()\n",
    "!echo {vcode} | google-drive-ocamlfuse -headless -id={creds.client_id} -secret={creds.client_secret}"
   ]
  },
  {
   "cell_type": "code",
   "execution_count": 2,
   "metadata": {
    "executionInfo": {
     "elapsed": 988,
     "status": "ok",
     "timestamp": 1607254606610,
     "user": {
      "displayName": "SHUAIHENG XIAO",
      "photoUrl": "",
      "userId": "00050360622927862885"
     },
     "user_tz": -480
    },
    "id": "cxKKBucZJu1p"
   },
   "outputs": [],
   "source": [
    "!mkdir -p drive\n",
    "!google-drive-ocamlfuse drive"
   ]
  },
  {
   "cell_type": "code",
   "execution_count": 3,
   "metadata": {
    "colab": {
     "base_uri": "https://localhost:8080/"
    },
    "executionInfo": {
     "elapsed": 30364,
     "status": "ok",
     "timestamp": 1607254636161,
     "user": {
      "displayName": "SHUAIHENG XIAO",
      "photoUrl": "",
      "userId": "00050360622927862885"
     },
     "user_tz": -480
    },
    "id": "wsfus8rhJu1p",
    "outputId": "542fe395-4aeb-4cf5-bded-22032379b63a"
   },
   "outputs": [
    {
     "name": "stdout",
     "output_type": "stream",
     "text": [
      "Mounted at /content/drive\n"
     ]
    }
   ],
   "source": [
    "from google.colab import drive\n",
    "drive.mount('/content/drive')"
   ]
  },
  {
   "cell_type": "code",
   "execution_count": 1,
   "metadata": {
    "executionInfo": {
     "elapsed": 2632,
     "status": "ok",
     "timestamp": 1607254641350,
     "user": {
      "displayName": "SHUAIHENG XIAO",
      "photoUrl": "",
      "userId": "00050360622927862885"
     },
     "user_tz": -480
    },
    "id": "EQs9hTP6Ju1p"
   },
   "outputs": [],
   "source": [
    "import h5py\n",
    "import numpy as np\n",
    "from keras.utils import np_utils\n",
    "import tensorflow as tf\n",
    "from tensorflow.keras.applications.vgg19 import VGG19\n",
    "from keras.applications.inception_v3 import InceptionV3\n",
    "from tensorflow.keras import Sequential\n",
    "from tensorflow.keras.layers import Flatten, Dense, Dropout\n",
    "from tqdm import tqdm\n",
    "import os\n",
    "import cv2\n",
    "import matplotlib.pyplot as plt"
   ]
  },
  {
   "cell_type": "code",
   "execution_count": 5,
   "metadata": {
    "executionInfo": {
     "elapsed": 1399,
     "status": "ok",
     "timestamp": 1607254644694,
     "user": {
      "displayName": "SHUAIHENG XIAO",
      "photoUrl": "",
      "userId": "00050360622927862885"
     },
     "user_tz": -480
    },
    "id": "9cfTDztvJu1p"
   },
   "outputs": [],
   "source": [
    "file = h5py.File('/content/drive/MyDrive/628/dataset.hdf5',mode = 'r')"
   ]
  },
  {
   "cell_type": "code",
   "execution_count": 6,
   "metadata": {
    "executionInfo": {
     "elapsed": 84390,
     "status": "ok",
     "timestamp": 1607254734140,
     "user": {
      "displayName": "SHUAIHENG XIAO",
      "photoUrl": "",
      "userId": "00050360622927862885"
     },
     "user_tz": -480
    },
    "id": "Ae0sp0YeJu1p"
   },
   "outputs": [],
   "source": [
    "x_train = file['x_train'][:]\n",
    "y_train = file['y_train'][:]"
   ]
  },
  {
   "cell_type": "code",
   "execution_count": 7,
   "metadata": {
    "executionInfo": {
     "elapsed": 30270,
     "status": "ok",
     "timestamp": 1607254764415,
     "user": {
      "displayName": "SHUAIHENG XIAO",
      "photoUrl": "",
      "userId": "00050360622927862885"
     },
     "user_tz": -480
    },
    "id": "4od9HBNCJu1p"
   },
   "outputs": [],
   "source": [
    "x_val = file['x_val'][:]\n",
    "y_val = file['y_val'][:]"
   ]
  },
  {
   "cell_type": "code",
   "execution_count": 8,
   "metadata": {
    "executionInfo": {
     "elapsed": 45319,
     "status": "ok",
     "timestamp": 1607254779469,
     "user": {
      "displayName": "SHUAIHENG XIAO",
      "photoUrl": "",
      "userId": "00050360622927862885"
     },
     "user_tz": -480
    },
    "id": "oQgEHZEWJu1p"
   },
   "outputs": [],
   "source": [
    "x_test = file['x_test'][:]\n",
    "y_test = file['y_test'][:]"
   ]
  },
  {
   "cell_type": "code",
   "execution_count": 9,
   "metadata": {
    "executionInfo": {
     "elapsed": 50120,
     "status": "ok",
     "timestamp": 1607254784273,
     "user": {
      "displayName": "SHUAIHENG XIAO",
      "photoUrl": "",
      "userId": "00050360622927862885"
     },
     "user_tz": -480
    },
    "id": "EO5Pt5E_Ju1p"
   },
   "outputs": [],
   "source": [
    "x_train = x_train.astype('float32')\n",
    "x_val = x_val.astype('float32')\n",
    "x_test = x_test.astype('float32')\n",
    "\n",
    "\n",
    "x_train/=255\n",
    "x_val/=255\n",
    "x_test /= 255"
   ]
  },
  {
   "cell_type": "code",
   "execution_count": 2,
   "metadata": {
    "colab": {
     "base_uri": "https://localhost:8080/"
    },
    "executionInfo": {
     "elapsed": 9566,
     "status": "ok",
     "timestamp": 1607254798338,
     "user": {
      "displayName": "SHUAIHENG XIAO",
      "photoUrl": "",
      "userId": "00050360622927862885"
     },
     "user_tz": -480
    },
    "id": "9h0ZaDOfJu1q",
    "outputId": "97a9a122-18c6-4871-c6e6-678a0209b5e2"
   },
   "outputs": [
    {
     "name": "stdout",
     "output_type": "stream",
     "text": [
      "Downloading data from https://storage.googleapis.com/tensorflow/keras-applications/inception_v3/inception_v3_weights_tf_dim_ordering_tf_kernels_notop.h5\n",
      "87916544/87910968 [==============================] - 35s 0us/step\n"
     ]
    }
   ],
   "source": [
    "IR = InceptionV3(weights = 'imagenet', include_top = False, input_shape = (224, 224, 3))"
   ]
  },
  {
   "cell_type": "code",
   "execution_count": 3,
   "metadata": {
    "executionInfo": {
     "elapsed": 1154,
     "status": "ok",
     "timestamp": 1607254801427,
     "user": {
      "displayName": "SHUAIHENG XIAO",
      "photoUrl": "",
      "userId": "00050360622927862885"
     },
     "user_tz": -480
    },
    "id": "QYN-vkeeJu1q"
   },
   "outputs": [],
   "source": [
    "for layer in IR.layers:\n",
    "    layer.trainable = False"
   ]
  },
  {
   "cell_type": "code",
   "execution_count": 4,
   "metadata": {
    "executionInfo": {
     "elapsed": 1108,
     "status": "ok",
     "timestamp": 1607254803286,
     "user": {
      "displayName": "SHUAIHENG XIAO",
      "photoUrl": "",
      "userId": "00050360622927862885"
     },
     "user_tz": -480
    },
    "id": "CcKJdaSlJu1q"
   },
   "outputs": [],
   "source": [
    "model = Sequential()\n",
    "model.add(IR)\n",
    "model.add(Flatten())\n",
    "model.add(Dense(512, activation = 'relu'))\n",
    "model.add(Dropout(0.4))\n",
    "model.add(Dense(1, activation = 'sigmoid'))"
   ]
  },
  {
   "cell_type": "code",
   "execution_count": 5,
   "metadata": {
    "colab": {
     "base_uri": "https://localhost:8080/"
    },
    "executionInfo": {
     "elapsed": 777,
     "status": "ok",
     "timestamp": 1607254805186,
     "user": {
      "displayName": "SHUAIHENG XIAO",
      "photoUrl": "",
      "userId": "00050360622927862885"
     },
     "user_tz": -480
    },
    "id": "_wa2JhOirTN9",
    "outputId": "13a82715-356b-4bbb-a17e-562ae24f9dce"
   },
   "outputs": [
    {
     "name": "stdout",
     "output_type": "stream",
     "text": [
      "Model: \"sequential\"\n",
      "_________________________________________________________________\n",
      "Layer (type)                 Output Shape              Param #   \n",
      "=================================================================\n",
      "inception_v3 (Functional)    (None, 5, 5, 2048)        21802784  \n",
      "_________________________________________________________________\n",
      "flatten (Flatten)            (None, 51200)             0         \n",
      "_________________________________________________________________\n",
      "dense (Dense)                (None, 512)               26214912  \n",
      "_________________________________________________________________\n",
      "dropout (Dropout)            (None, 512)               0         \n",
      "_________________________________________________________________\n",
      "dense_1 (Dense)              (None, 1)                 513       \n",
      "=================================================================\n",
      "Total params: 48,018,209\n",
      "Trainable params: 26,215,425\n",
      "Non-trainable params: 21,802,784\n",
      "_________________________________________________________________\n"
     ]
    }
   ],
   "source": [
    "model.summary()"
   ]
  },
  {
   "cell_type": "code",
   "execution_count": 6,
   "metadata": {
    "executionInfo": {
     "elapsed": 891,
     "status": "ok",
     "timestamp": 1607254811118,
     "user": {
      "displayName": "SHUAIHENG XIAO",
      "photoUrl": "",
      "userId": "00050360622927862885"
     },
     "user_tz": -480
    },
    "id": "o5NUJAqKJu1q"
   },
   "outputs": [],
   "source": [
    "model.compile(optimizer = 'adam', loss = 'binary_crossentropy', metrics = ['accuracy'])"
   ]
  },
  {
   "cell_type": "code",
   "execution_count": 15,
   "metadata": {
    "executionInfo": {
     "elapsed": 873,
     "status": "ok",
     "timestamp": 1607254814889,
     "user": {
      "displayName": "SHUAIHENG XIAO",
      "photoUrl": "",
      "userId": "00050360622927862885"
     },
     "user_tz": -480
    },
    "id": "ktLzgrktJu1q"
   },
   "outputs": [],
   "source": [
    "from tensorflow.keras.callbacks import ModelCheckpoint,EarlyStopping\n",
    "checkpoint = ModelCheckpoint(\"/content/drive/My Drive/628/v2_weights.h5\",monitor=\"val_accuracy\",verbose=1,\n",
    "                             save_best_only=True,\n",
    "                             save_weights_only=True)\n",
    "earlystop = EarlyStopping(monitor=\"val_accuracy\",patience=5,verbose=1)"
   ]
  },
  {
   "cell_type": "code",
   "execution_count": 16,
   "metadata": {
    "colab": {
     "base_uri": "https://localhost:8080/"
    },
    "executionInfo": {
     "elapsed": 200116,
     "status": "ok",
     "timestamp": 1607255015707,
     "user": {
      "displayName": "SHUAIHENG XIAO",
      "photoUrl": "",
      "userId": "00050360622927862885"
     },
     "user_tz": -480
    },
    "id": "4twOVioBJu1q",
    "outputId": "fea459d1-5fc0-4b5b-cd03-9a4e9968fa62"
   },
   "outputs": [
    {
     "name": "stdout",
     "output_type": "stream",
     "text": [
      "Epoch 1/100\n",
      "57/57 [==============================] - ETA: 0s - loss: 3.4990 - accuracy: 0.9135\n",
      "Epoch 00001: val_accuracy improved from -inf to 0.95833, saving model to /content/drive/My Drive/628/v2_weights.h5\n",
      "57/57 [==============================] - 20s 359ms/step - loss: 3.4990 - accuracy: 0.9135 - val_loss: 0.8325 - val_accuracy: 0.9583\n",
      "Epoch 2/100\n",
      "57/57 [==============================] - ETA: 0s - loss: 0.3352 - accuracy: 0.9578\n",
      "Epoch 00002: val_accuracy did not improve from 0.95833\n",
      "57/57 [==============================] - 17s 305ms/step - loss: 0.3352 - accuracy: 0.9578 - val_loss: 0.1693 - val_accuracy: 0.9550\n",
      "Epoch 3/100\n",
      "57/57 [==============================] - ETA: 0s - loss: 0.0664 - accuracy: 0.9764\n",
      "Epoch 00003: val_accuracy did not improve from 0.95833\n",
      "57/57 [==============================] - 18s 310ms/step - loss: 0.0664 - accuracy: 0.9764 - val_loss: 0.1524 - val_accuracy: 0.9550\n",
      "Epoch 4/100\n",
      "57/57 [==============================] - ETA: 0s - loss: 0.0417 - accuracy: 0.9851\n",
      "Epoch 00004: val_accuracy improved from 0.95833 to 0.96167, saving model to /content/drive/My Drive/628/v2_weights.h5\n",
      "57/57 [==============================] - 19s 341ms/step - loss: 0.0417 - accuracy: 0.9851 - val_loss: 0.1320 - val_accuracy: 0.9617\n",
      "Epoch 5/100\n",
      "57/57 [==============================] - ETA: 0s - loss: 0.0302 - accuracy: 0.9881\n",
      "Epoch 00005: val_accuracy improved from 0.96167 to 0.96333, saving model to /content/drive/My Drive/628/v2_weights.h5\n",
      "57/57 [==============================] - 19s 339ms/step - loss: 0.0302 - accuracy: 0.9881 - val_loss: 0.1254 - val_accuracy: 0.9633\n",
      "Epoch 6/100\n",
      "57/57 [==============================] - ETA: 0s - loss: 0.0231 - accuracy: 0.9915\n",
      "Epoch 00006: val_accuracy did not improve from 0.96333\n",
      "57/57 [==============================] - 18s 320ms/step - loss: 0.0231 - accuracy: 0.9915 - val_loss: 0.1580 - val_accuracy: 0.9628\n",
      "Epoch 7/100\n",
      "57/57 [==============================] - ETA: 0s - loss: 0.0136 - accuracy: 0.9954\n",
      "Epoch 00007: val_accuracy did not improve from 0.96333\n",
      "57/57 [==============================] - 18s 317ms/step - loss: 0.0136 - accuracy: 0.9954 - val_loss: 0.1632 - val_accuracy: 0.9600\n",
      "Epoch 8/100\n",
      "57/57 [==============================] - ETA: 0s - loss: 0.0151 - accuracy: 0.9954\n",
      "Epoch 00008: val_accuracy did not improve from 0.96333\n",
      "57/57 [==============================] - 18s 316ms/step - loss: 0.0151 - accuracy: 0.9954 - val_loss: 0.1420 - val_accuracy: 0.9633\n",
      "Epoch 9/100\n",
      "57/57 [==============================] - ETA: 0s - loss: 0.0165 - accuracy: 0.9933\n",
      "Epoch 00009: val_accuracy did not improve from 0.96333\n",
      "57/57 [==============================] - 18s 315ms/step - loss: 0.0165 - accuracy: 0.9933 - val_loss: 0.1697 - val_accuracy: 0.9550\n",
      "Epoch 10/100\n",
      "57/57 [==============================] - ETA: 0s - loss: 0.0129 - accuracy: 0.9960\n",
      "Epoch 00010: val_accuracy did not improve from 0.96333\n",
      "57/57 [==============================] - 18s 315ms/step - loss: 0.0129 - accuracy: 0.9960 - val_loss: 0.1807 - val_accuracy: 0.9628\n",
      "Epoch 00010: early stopping\n"
     ]
    }
   ],
   "source": [
    "history = model.fit(x_train,y_train, batch_size = 128, epochs = 100, validation_data=(x_val,y_val),shuffle = True,verbose=1,callbacks=[checkpoint,earlystop])"
   ]
  },
  {
   "cell_type": "code",
   "execution_count": 17,
   "metadata": {
    "executionInfo": {
     "elapsed": 13417,
     "status": "ok",
     "timestamp": 1607255080566,
     "user": {
      "displayName": "SHUAIHENG XIAO",
      "photoUrl": "",
      "userId": "00050360622927862885"
     },
     "user_tz": -480
    },
    "id": "H8WlLN63g93U"
   },
   "outputs": [],
   "source": [
    "model.load_weights('/content/drive/My Drive/628/v2_weights.h5')"
   ]
  },
  {
   "cell_type": "code",
   "execution_count": 18,
   "metadata": {
    "colab": {
     "base_uri": "https://localhost:8080/"
    },
    "executionInfo": {
     "elapsed": 14996,
     "status": "ok",
     "timestamp": 1607255082363,
     "user": {
      "displayName": "SHUAIHENG XIAO",
      "photoUrl": "",
      "userId": "00050360622927862885"
     },
     "user_tz": -480
    },
    "id": "XuYJ0TACKuUz",
    "outputId": "d079f627-7030-4849-aa9f-d9c89932c565"
   },
   "outputs": [
    {
     "name": "stdout",
     "output_type": "stream",
     "text": [
      "32/32 [==============================] - 2s 66ms/step - loss: 0.0965 - accuracy: 0.9760\n"
     ]
    },
    {
     "data": {
      "text/plain": [
       "[0.09648917615413666, 0.9760000109672546]"
      ]
     },
     "execution_count": 18,
     "metadata": {
      "tags": []
     },
     "output_type": "execute_result"
    }
   ],
   "source": [
    "model.evaluate(x_test,y_test)"
   ]
  },
  {
   "cell_type": "code",
   "execution_count": 19,
   "metadata": {
    "colab": {
     "base_uri": "https://localhost:8080/",
     "height": 408
    },
    "executionInfo": {
     "elapsed": 15461,
     "status": "ok",
     "timestamp": 1607255083024,
     "user": {
      "displayName": "SHUAIHENG XIAO",
      "photoUrl": "",
      "userId": "00050360622927862885"
     },
     "user_tz": -480
    },
    "id": "9gk8-1NOg2bM",
    "outputId": "377e4908-9072-4a68-dbd3-fe35212493e5"
   },
   "outputs": [
    {
     "data": {
      "image/png": "[encoded data removed]",
      "text/plain": [
       "<Figure size 864x432 with 2 Axes>"
      ]
     },
     "metadata": {
      "tags": []
     },
     "output_type": "display_data"
    }
   ],
   "source": [
    "import matplotlib.pyplot as plt\n",
    "plt.style.use(\"ggplot\")\n",
    "fig = plt.figure(figsize=(12,6))\n",
    "epochs = range(1,len(history.history['accuracy'])+1)\n",
    "plt.subplot(1,2,1)\n",
    "plt.plot(epochs,history.history[\"accuracy\"],\"go-\")\n",
    "plt.plot(epochs,history.history[\"val_accuracy\"],\"ro-\")\n",
    "plt.title(\"Model Accuracy\")\n",
    "plt.xlabel(\"Epochs\")\n",
    "plt.ylabel(\"Accuracy\")\n",
    "plt.legend([\"Train\",\"val\"],loc = \"upper left\")\n",
    "\n",
    "plt.subplot(1,2,2)\n",
    "plt.plot(epochs,history.history[\"loss\"],\"go-\")\n",
    "plt.plot(epochs,history.history[\"val_loss\"],\"ro-\")\n",
    "plt.title(\"Model Loss\")\n",
    "plt.xlabel(\"Epochs\")\n",
    "plt.ylabel(\"Loss\")\n",
    "plt.legend([\"Train\",\"val\"],loc = \"upper left\")\n",
    "plt.show()"
   ]
  },
  {
   "cell_type": "code",
   "execution_count": 20,
   "metadata": {
    "colab": {
     "base_uri": "https://localhost:8080/"
    },
    "executionInfo": {
     "elapsed": 975,
     "status": "ok",
     "timestamp": 1607255185353,
     "user": {
      "displayName": "SHUAIHENG XIAO",
      "photoUrl": "",
      "userId": "00050360622927862885"
     },
     "user_tz": -480
    },
    "id": "XFYk4DOmg5Y9",
    "outputId": "06f27c7f-0985-40b3-bac2-07b64eee39c2"
   },
   "outputs": [
    {
     "data": {
      "text/plain": [
       "1000"
      ]
     },
     "execution_count": 20,
     "metadata": {
      "tags": []
     },
     "output_type": "execute_result"
    }
   ],
   "source": [
    "len(x_test)"
   ]
  },
  {
   "cell_type": "code",
   "execution_count": null,
   "metadata": {
    "id": "XlSwOooX39Hq"
   },
   "outputs": [],
   "source": []
  },
  {
   "cell_type": "code",
   "execution_count": 7,
   "metadata": {},
   "outputs": [],
   "source": [
    "model.load_weights('/Users/xiaoshuaiheng/Desktop/EE 628 DeepLearning/final proj/v2_weights.h5')"
   ]
  },
  {
   "cell_type": "code",
   "execution_count": 19,
   "metadata": {},
   "outputs": [],
   "source": [
    "test_dir = '/Users/xiaoshuaiheng/Desktop/EE 628 DeepLearning/final proj/dogs-vs-cats/test'\n",
    "test_imageList =  os.listdir(test_dir)"
   ]
  },
  {
   "cell_type": "code",
   "execution_count": 20,
   "metadata": {},
   "outputs": [
    {
     "data": {
      "text/plain": [
       "12500"
      ]
     },
     "execution_count": 20,
     "metadata": {},
     "output_type": "execute_result"
    }
   ],
   "source": [
    "len(test_imageList)"
   ]
  },
  {
   "cell_type": "code",
   "execution_count": null,
   "metadata": {},
   "outputs": [],
   "source": []
  },
  {
   "cell_type": "code",
   "execution_count": 21,
   "metadata": {},
   "outputs": [
    {
     "name": "stderr",
     "output_type": "stream",
     "text": [
      "100%|██████████| 12500/12500 [15:14<00:00, 13.67it/s]\n"
     ]
    }
   ],
   "source": [
    "res = []\n",
    "dim_size = 224\n",
    "for name in tqdm(test_imageList):\n",
    "    image_path = test_dir + '/' + name\n",
    "    image = cv2.imread(image_path, cv2.IMREAD_COLOR)\n",
    "    image = cv2.resize(image,(dim_size, dim_size))\n",
    "    image = image.astype('float32')\n",
    "    image/=255\n",
    "    image = np.expand_dims(image, axis=0)\n",
    "    score = model.predict(image)\n",
    "    if score <= 0.5:\n",
    "        label = 0\n",
    "    else:\n",
    "        label = 1\n",
    "    res.append(label)"
   ]
  },
  {
   "cell_type": "code",
   "execution_count": 31,
   "metadata": {},
   "outputs": [
    {
     "data": {
      "text/plain": [
       "'599'"
      ]
     },
     "execution_count": 31,
     "metadata": {},
     "output_type": "execute_result"
    }
   ],
   "source": [
    "test_imageList[222][:-4]"
   ]
  },
  {
   "cell_type": "code",
   "execution_count": 37,
   "metadata": {},
   "outputs": [
    {
     "name": "stderr",
     "output_type": "stream",
     "text": [
      "100%|██████████| 12500/12500 [00:00<00:00, 1137604.96it/s]\n"
     ]
    }
   ],
   "source": [
    "id = []\n",
    "for name in tqdm(test_imageList):\n",
    "    id.append(int(name[:-4]))"
   ]
  },
  {
   "cell_type": "code",
   "execution_count": 33,
   "metadata": {},
   "outputs": [],
   "source": [
    "import pandas as pd\n",
    "df = pd.DataFrame()"
   ]
  },
  {
   "cell_type": "code",
   "execution_count": 39,
   "metadata": {},
   "outputs": [],
   "source": [
    "df['id'] = id\n",
    "df['label'] = res"
   ]
  },
  {
   "cell_type": "code",
   "execution_count": 47,
   "metadata": {},
   "outputs": [],
   "source": [
    "df = df.sort_values(by='id')"
   ]
  },
  {
   "cell_type": "code",
   "execution_count": 49,
   "metadata": {},
   "outputs": [
    {
     "data": {
      "text/html": [
       "<div>\n",
       "<style scoped>\n",
       "    .dataframe tbody tr th:only-of-type {\n",
       "        vertical-align: middle;\n",
       "    }\n",
       "\n",
       "    .dataframe tbody tr th {\n",
       "        vertical-align: top;\n",
       "    }\n",
       "\n",
       "    .dataframe thead th {\n",
       "        text-align: right;\n",
       "    }\n",
       "</style>\n",
       "<table border=\"1\" class=\"dataframe\">\n",
       "  <thead>\n",
       "    <tr style=\"text-align: right;\">\n",
       "      <th></th>\n",
       "      <th>id</th>\n",
       "      <th>label</th>\n",
       "    </tr>\n",
       "  </thead>\n",
       "  <tbody>\n",
       "    <tr>\n",
       "      <th>11768</th>\n",
       "      <td>1</td>\n",
       "      <td>1</td>\n",
       "    </tr>\n",
       "    <tr>\n",
       "      <th>10969</th>\n",
       "      <td>2</td>\n",
       "      <td>1</td>\n",
       "    </tr>\n",
       "    <tr>\n",
       "      <th>11663</th>\n",
       "      <td>3</td>\n",
       "      <td>1</td>\n",
       "    </tr>\n",
       "    <tr>\n",
       "      <th>9385</th>\n",
       "      <td>4</td>\n",
       "      <td>1</td>\n",
       "    </tr>\n",
       "    <tr>\n",
       "      <th>10128</th>\n",
       "      <td>5</td>\n",
       "      <td>0</td>\n",
       "    </tr>\n",
       "    <tr>\n",
       "      <th>10928</th>\n",
       "      <td>6</td>\n",
       "      <td>0</td>\n",
       "    </tr>\n",
       "    <tr>\n",
       "      <th>10174</th>\n",
       "      <td>7</td>\n",
       "      <td>0</td>\n",
       "    </tr>\n",
       "    <tr>\n",
       "      <th>2365</th>\n",
       "      <td>8</td>\n",
       "      <td>0</td>\n",
       "    </tr>\n",
       "    <tr>\n",
       "      <th>3136</th>\n",
       "      <td>9</td>\n",
       "      <td>0</td>\n",
       "    </tr>\n",
       "    <tr>\n",
       "      <th>6223</th>\n",
       "      <td>10</td>\n",
       "      <td>0</td>\n",
       "    </tr>\n",
       "    <tr>\n",
       "      <th>5558</th>\n",
       "      <td>11</td>\n",
       "      <td>0</td>\n",
       "    </tr>\n",
       "    <tr>\n",
       "      <th>4745</th>\n",
       "      <td>12</td>\n",
       "      <td>1</td>\n",
       "    </tr>\n",
       "    <tr>\n",
       "      <th>5458</th>\n",
       "      <td>13</td>\n",
       "      <td>0</td>\n",
       "    </tr>\n",
       "    <tr>\n",
       "      <th>3169</th>\n",
       "      <td>14</td>\n",
       "      <td>0</td>\n",
       "    </tr>\n",
       "    <tr>\n",
       "      <th>3903</th>\n",
       "      <td>15</td>\n",
       "      <td>0</td>\n",
       "    </tr>\n",
       "    <tr>\n",
       "      <th>4712</th>\n",
       "      <td>16</td>\n",
       "      <td>0</td>\n",
       "    </tr>\n",
       "    <tr>\n",
       "      <th>3936</th>\n",
       "      <td>17</td>\n",
       "      <td>1</td>\n",
       "    </tr>\n",
       "    <tr>\n",
       "      <th>8606</th>\n",
       "      <td>18</td>\n",
       "      <td>1</td>\n",
       "    </tr>\n",
       "    <tr>\n",
       "      <th>9351</th>\n",
       "      <td>19</td>\n",
       "      <td>0</td>\n",
       "    </tr>\n",
       "    <tr>\n",
       "      <th>7034</th>\n",
       "      <td>20</td>\n",
       "      <td>0</td>\n",
       "    </tr>\n",
       "  </tbody>\n",
       "</table>\n",
       "</div>"
      ],
      "text/plain": [
       "       id  label\n",
       "11768   1      1\n",
       "10969   2      1\n",
       "11663   3      1\n",
       "9385    4      1\n",
       "10128   5      0\n",
       "10928   6      0\n",
       "10174   7      0\n",
       "2365    8      0\n",
       "3136    9      0\n",
       "6223   10      0\n",
       "5558   11      0\n",
       "4745   12      1\n",
       "5458   13      0\n",
       "3169   14      0\n",
       "3903   15      0\n",
       "4712   16      0\n",
       "3936   17      1\n",
       "8606   18      1\n",
       "9351   19      0\n",
       "7034   20      0"
      ]
     },
     "execution_count": 49,
     "metadata": {},
     "output_type": "execute_result"
    }
   ],
   "source": [
    "df.head(20)"
   ]
  },
  {
   "cell_type": "code",
   "execution_count": 50,
   "metadata": {},
   "outputs": [],
   "source": [
    "save_path = '/Users/xiaoshuaiheng/Desktop/EE 628 DeepLearning/res.csv'\n",
    "df.to_csv(save_path, header = True, index = False)"
   ]
  },
  {
   "cell_type": "code",
   "execution_count": null,
   "metadata": {},
   "outputs": [],
   "source": []
  }
 ],
 "metadata": {
  "accelerator": "GPU",
  "colab": {
   "collapsed_sections": [],
   "name": "v2-vgg.ipynb",
   "provenance": []
  },
  "kernelspec": {
   "display_name": "Python 3",
   "language": "python",
   "name": "python3"
  },
  "language_info": {
   "codemirror_mode": {
    "name": "ipython",
    "version": 3
   },
   "file_extension": ".py",
   "mimetype": "text/x-python",
   "name": "python",
   "nbconvert_exporter": "python",
   "pygments_lexer": "ipython3",
   "version": "3.7.6"
  }
 },
 "nbformat": 4,
 "nbformat_minor": 1
}
